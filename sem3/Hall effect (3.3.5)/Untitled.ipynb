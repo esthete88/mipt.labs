{
 "cells": [
  {
   "cell_type": "code",
   "execution_count": 1,
   "metadata": {},
   "outputs": [
    {
     "name": "stdout",
     "output_type": "stream",
     "text": [
      "Populating the interactive namespace from numpy and matplotlib\n"
     ]
    }
   ],
   "source": [
    "import numpy as np\n",
    "import pandas as pd\n",
    "from scipy.optimize import curve_fit\n",
    "from scipy.interpolate import interp1d\n",
    "%pylab inline"
   ]
  },
  {
   "cell_type": "code",
   "execution_count": 67,
   "metadata": {
    "collapsed": true
   },
   "outputs": [],
   "source": [
    "import seaborn\n",
    "seaborn.set_style(style='whitegrid')"
   ]
  },
  {
   "cell_type": "code",
   "execution_count": 80,
   "metadata": {
    "collapsed": true
   },
   "outputs": [],
   "source": [
    "import smartlab as sl"
   ]
  },
  {
   "cell_type": "code",
   "execution_count": 4,
   "metadata": {},
   "outputs": [
    {
     "data": {
      "text/html": [
       "<div>\n",
       "<style>\n",
       "    .dataframe thead tr:only-child th {\n",
       "        text-align: right;\n",
       "    }\n",
       "\n",
       "    .dataframe thead th {\n",
       "        text-align: left;\n",
       "    }\n",
       "\n",
       "    .dataframe tbody tr th {\n",
       "        vertical-align: top;\n",
       "    }\n",
       "</style>\n",
       "<table border=\"1\" class=\"dataframe\">\n",
       "  <thead>\n",
       "    <tr style=\"text-align: right;\">\n",
       "      <th></th>\n",
       "      <th>$J,\\ \\text{А}$</th>\n",
       "      <th>$B,\\ \\text{мТл}$</th>\n",
       "    </tr>\n",
       "  </thead>\n",
       "  <tbody>\n",
       "    <tr>\n",
       "      <th>0</th>\n",
       "      <td>0.00</td>\n",
       "      <td>21</td>\n",
       "    </tr>\n",
       "    <tr>\n",
       "      <th>1</th>\n",
       "      <td>0.15</td>\n",
       "      <td>182</td>\n",
       "    </tr>\n",
       "    <tr>\n",
       "      <th>2</th>\n",
       "      <td>0.30</td>\n",
       "      <td>370</td>\n",
       "    </tr>\n",
       "    <tr>\n",
       "      <th>3</th>\n",
       "      <td>0.45</td>\n",
       "      <td>565</td>\n",
       "    </tr>\n",
       "    <tr>\n",
       "      <th>4</th>\n",
       "      <td>0.60</td>\n",
       "      <td>739</td>\n",
       "    </tr>\n",
       "    <tr>\n",
       "      <th>5</th>\n",
       "      <td>0.75</td>\n",
       "      <td>878</td>\n",
       "    </tr>\n",
       "    <tr>\n",
       "      <th>6</th>\n",
       "      <td>0.90</td>\n",
       "      <td>969</td>\n",
       "    </tr>\n",
       "    <tr>\n",
       "      <th>7</th>\n",
       "      <td>1.05</td>\n",
       "      <td>1038</td>\n",
       "    </tr>\n",
       "    <tr>\n",
       "      <th>8</th>\n",
       "      <td>1.20</td>\n",
       "      <td>1081</td>\n",
       "    </tr>\n",
       "  </tbody>\n",
       "</table>\n",
       "</div>"
      ],
      "text/plain": [
       "   $J,\\ \\text{А}$  $B,\\ \\text{мТл}$\n",
       "0            0.00                21\n",
       "1            0.15               182\n",
       "2            0.30               370\n",
       "3            0.45               565\n",
       "4            0.60               739\n",
       "5            0.75               878\n",
       "6            0.90               969\n",
       "7            1.05              1038\n",
       "8            1.20              1081"
      ]
     },
     "execution_count": 4,
     "metadata": {},
     "output_type": "execute_result"
    }
   ],
   "source": [
    "jb = pd.read_csv('jb.tsv', delimiter='\\t')\n",
    "jb"
   ]
  },
  {
   "cell_type": "code",
   "execution_count": 62,
   "metadata": {
    "collapsed": true
   },
   "outputs": [],
   "source": [
    "f = interp1d(jb.iloc[:, 0], jb.iloc[:, 1], kind='cubic')"
   ]
  },
  {
   "cell_type": "code",
   "execution_count": 100,
   "metadata": {},
   "outputs": [
    {
     "data": {
      "image/png": "[encoded data removed]",
      "text/plain": [
       "<matplotlib.figure.Figure at 0x7f919dae31d0>"
      ]
     },
     "metadata": {},
     "output_type": "display_data"
    }
   ],
   "source": [
    "plot(jb.iloc[:, 0], jb.iloc[:, 1], 'go')\n",
    "plot(jb.iloc[:, 0], f(jb.iloc[:, 0]), '-g')\n",
    "xlabel('$J,\\ A$')\n",
    "ylabel('$B,\\ mT$')\n",
    "savefig('jb.png', dpi=300)\n",
    "show()"
   ]
  },
  {
   "cell_type": "code",
   "execution_count": 9,
   "metadata": {
    "scrolled": true
   },
   "outputs": [
    {
     "data": {
      "text/html": [
       "<div>\n",
       "<style>\n",
       "    .dataframe thead tr:only-child th {\n",
       "        text-align: right;\n",
       "    }\n",
       "\n",
       "    .dataframe thead th {\n",
       "        text-align: left;\n",
       "    }\n",
       "\n",
       "    .dataframe tbody tr th {\n",
       "        vertical-align: top;\n",
       "    }\n",
       "</style>\n",
       "<table border=\"1\" class=\"dataframe\">\n",
       "  <thead>\n",
       "    <tr style=\"text-align: right;\">\n",
       "      <th></th>\n",
       "      <th>$I_m,\\ A$</th>\n",
       "      <th>$\\epsilon_1,\\ \\text{дел}$</th>\n",
       "      <th>$\\epsilon_2,\\ \\text{дел}$</th>\n",
       "      <th>$\\epsilon_3,\\ \\text{дел}$</th>\n",
       "      <th>$\\epsilon_4,\\ \\text{дел}$</th>\n",
       "      <th>$\\epsilon_5,\\ \\text{дел}$</th>\n",
       "    </tr>\n",
       "  </thead>\n",
       "  <tbody>\n",
       "    <tr>\n",
       "      <th>0</th>\n",
       "      <td>0.00</td>\n",
       "      <td>11.0</td>\n",
       "      <td>15.0</td>\n",
       "      <td>18.0</td>\n",
       "      <td>21.0</td>\n",
       "      <td>22.0</td>\n",
       "    </tr>\n",
       "    <tr>\n",
       "      <th>1</th>\n",
       "      <td>0.15</td>\n",
       "      <td>14.0</td>\n",
       "      <td>19.0</td>\n",
       "      <td>22.0</td>\n",
       "      <td>25.5</td>\n",
       "      <td>26.0</td>\n",
       "    </tr>\n",
       "    <tr>\n",
       "      <th>2</th>\n",
       "      <td>0.30</td>\n",
       "      <td>18.0</td>\n",
       "      <td>22.5</td>\n",
       "      <td>26.5</td>\n",
       "      <td>30.0</td>\n",
       "      <td>32.5</td>\n",
       "    </tr>\n",
       "    <tr>\n",
       "      <th>3</th>\n",
       "      <td>0.45</td>\n",
       "      <td>21.0</td>\n",
       "      <td>26.5</td>\n",
       "      <td>30.5</td>\n",
       "      <td>35.5</td>\n",
       "      <td>38.0</td>\n",
       "    </tr>\n",
       "    <tr>\n",
       "      <th>4</th>\n",
       "      <td>0.60</td>\n",
       "      <td>24.0</td>\n",
       "      <td>30.0</td>\n",
       "      <td>35.0</td>\n",
       "      <td>40.0</td>\n",
       "      <td>44.0</td>\n",
       "    </tr>\n",
       "    <tr>\n",
       "      <th>5</th>\n",
       "      <td>0.75</td>\n",
       "      <td>27.0</td>\n",
       "      <td>33.0</td>\n",
       "      <td>39.0</td>\n",
       "      <td>44.5</td>\n",
       "      <td>48.0</td>\n",
       "    </tr>\n",
       "    <tr>\n",
       "      <th>6</th>\n",
       "      <td>0.90</td>\n",
       "      <td>29.0</td>\n",
       "      <td>36.0</td>\n",
       "      <td>41.0</td>\n",
       "      <td>47.0</td>\n",
       "      <td>51.5</td>\n",
       "    </tr>\n",
       "    <tr>\n",
       "      <th>7</th>\n",
       "      <td>1.05</td>\n",
       "      <td>30.5</td>\n",
       "      <td>37.5</td>\n",
       "      <td>43.0</td>\n",
       "      <td>49.0</td>\n",
       "      <td>53.0</td>\n",
       "    </tr>\n",
       "    <tr>\n",
       "      <th>8</th>\n",
       "      <td>1.20</td>\n",
       "      <td>32.0</td>\n",
       "      <td>39.0</td>\n",
       "      <td>44.5</td>\n",
       "      <td>50.0</td>\n",
       "      <td>55.0</td>\n",
       "    </tr>\n",
       "  </tbody>\n",
       "</table>\n",
       "</div>"
      ],
      "text/plain": [
       "   $I_m,\\ A$  $\\epsilon_1,\\ \\text{дел}$  $\\epsilon_2,\\ \\text{дел}$  \\\n",
       "0       0.00                       11.0                       15.0   \n",
       "1       0.15                       14.0                       19.0   \n",
       "2       0.30                       18.0                       22.5   \n",
       "3       0.45                       21.0                       26.5   \n",
       "4       0.60                       24.0                       30.0   \n",
       "5       0.75                       27.0                       33.0   \n",
       "6       0.90                       29.0                       36.0   \n",
       "7       1.05                       30.5                       37.5   \n",
       "8       1.20                       32.0                       39.0   \n",
       "\n",
       "   $\\epsilon_3,\\ \\text{дел}$  $\\epsilon_4,\\ \\text{дел}$  \\\n",
       "0                       18.0                       21.0   \n",
       "1                       22.0                       25.5   \n",
       "2                       26.5                       30.0   \n",
       "3                       30.5                       35.5   \n",
       "4                       35.0                       40.0   \n",
       "5                       39.0                       44.5   \n",
       "6                       41.0                       47.0   \n",
       "7                       43.0                       49.0   \n",
       "8                       44.5                       50.0   \n",
       "\n",
       "   $\\epsilon_5,\\ \\text{дел}$  \n",
       "0                       22.0  \n",
       "1                       26.0  \n",
       "2                       32.5  \n",
       "3                       38.0  \n",
       "4                       44.0  \n",
       "5                       48.0  \n",
       "6                       51.5  \n",
       "7                       53.0  \n",
       "8                       55.0  "
      ]
     },
     "execution_count": 9,
     "metadata": {},
     "output_type": "execute_result"
    }
   ],
   "source": [
    "cuprum = pd.read_csv('cuprum.tsv', delimiter='\\t')\n",
    "cuprum"
   ]
  },
  {
   "cell_type": "code",
   "execution_count": 18,
   "metadata": {},
   "outputs": [
    {
     "data": {
      "text/html": [
       "<div>\n",
       "<style>\n",
       "    .dataframe thead tr:only-child th {\n",
       "        text-align: right;\n",
       "    }\n",
       "\n",
       "    .dataframe thead th {\n",
       "        text-align: left;\n",
       "    }\n",
       "\n",
       "    .dataframe tbody tr th {\n",
       "        vertical-align: top;\n",
       "    }\n",
       "</style>\n",
       "<table border=\"1\" class=\"dataframe\">\n",
       "  <thead>\n",
       "    <tr style=\"text-align: right;\">\n",
       "      <th></th>\n",
       "      <th>$I_m,\\ A$</th>\n",
       "      <th>$\\epsilon_1,\\ \\text{дел}$</th>\n",
       "      <th>$\\epsilon_2,\\ \\text{дел}$</th>\n",
       "      <th>$\\epsilon_3,\\ \\text{дел}$</th>\n",
       "      <th>$\\epsilon_4,\\ \\text{дел}$</th>\n",
       "      <th>$\\epsilon_5,\\ \\text{дел}$</th>\n",
       "      <th>$\\epsilon_{1},\\ \\text{мкВ}$</th>\n",
       "      <th>$\\epsilon_{2},\\ \\text{мкВ}$</th>\n",
       "      <th>$\\epsilon_{3},\\ \\text{мкВ}$</th>\n",
       "      <th>$\\epsilon_{4},\\ \\text{мкВ}$</th>\n",
       "      <th>$\\epsilon_{5},\\ \\text{мкВ}$</th>\n",
       "    </tr>\n",
       "  </thead>\n",
       "  <tbody>\n",
       "    <tr>\n",
       "      <th>0</th>\n",
       "      <td>0.00</td>\n",
       "      <td>11.0</td>\n",
       "      <td>15.0</td>\n",
       "      <td>18.0</td>\n",
       "      <td>21.0</td>\n",
       "      <td>22.0</td>\n",
       "      <td>0.00</td>\n",
       "      <td>0.00</td>\n",
       "      <td>0.00</td>\n",
       "      <td>0.00</td>\n",
       "      <td>0.00</td>\n",
       "    </tr>\n",
       "    <tr>\n",
       "      <th>1</th>\n",
       "      <td>0.15</td>\n",
       "      <td>14.0</td>\n",
       "      <td>19.0</td>\n",
       "      <td>22.0</td>\n",
       "      <td>25.5</td>\n",
       "      <td>26.0</td>\n",
       "      <td>0.12</td>\n",
       "      <td>0.16</td>\n",
       "      <td>0.16</td>\n",
       "      <td>0.18</td>\n",
       "      <td>0.16</td>\n",
       "    </tr>\n",
       "    <tr>\n",
       "      <th>2</th>\n",
       "      <td>0.30</td>\n",
       "      <td>18.0</td>\n",
       "      <td>22.5</td>\n",
       "      <td>26.5</td>\n",
       "      <td>30.0</td>\n",
       "      <td>32.5</td>\n",
       "      <td>0.28</td>\n",
       "      <td>0.30</td>\n",
       "      <td>0.34</td>\n",
       "      <td>0.36</td>\n",
       "      <td>0.42</td>\n",
       "    </tr>\n",
       "    <tr>\n",
       "      <th>3</th>\n",
       "      <td>0.45</td>\n",
       "      <td>21.0</td>\n",
       "      <td>26.5</td>\n",
       "      <td>30.5</td>\n",
       "      <td>35.5</td>\n",
       "      <td>38.0</td>\n",
       "      <td>0.40</td>\n",
       "      <td>0.46</td>\n",
       "      <td>0.50</td>\n",
       "      <td>0.58</td>\n",
       "      <td>0.64</td>\n",
       "    </tr>\n",
       "    <tr>\n",
       "      <th>4</th>\n",
       "      <td>0.60</td>\n",
       "      <td>24.0</td>\n",
       "      <td>30.0</td>\n",
       "      <td>35.0</td>\n",
       "      <td>40.0</td>\n",
       "      <td>44.0</td>\n",
       "      <td>0.52</td>\n",
       "      <td>0.60</td>\n",
       "      <td>0.68</td>\n",
       "      <td>0.76</td>\n",
       "      <td>0.88</td>\n",
       "    </tr>\n",
       "    <tr>\n",
       "      <th>5</th>\n",
       "      <td>0.75</td>\n",
       "      <td>27.0</td>\n",
       "      <td>33.0</td>\n",
       "      <td>39.0</td>\n",
       "      <td>44.5</td>\n",
       "      <td>48.0</td>\n",
       "      <td>0.64</td>\n",
       "      <td>0.72</td>\n",
       "      <td>0.84</td>\n",
       "      <td>0.94</td>\n",
       "      <td>1.04</td>\n",
       "    </tr>\n",
       "    <tr>\n",
       "      <th>6</th>\n",
       "      <td>0.90</td>\n",
       "      <td>29.0</td>\n",
       "      <td>36.0</td>\n",
       "      <td>41.0</td>\n",
       "      <td>47.0</td>\n",
       "      <td>51.5</td>\n",
       "      <td>0.72</td>\n",
       "      <td>0.84</td>\n",
       "      <td>0.92</td>\n",
       "      <td>1.04</td>\n",
       "      <td>1.18</td>\n",
       "    </tr>\n",
       "    <tr>\n",
       "      <th>7</th>\n",
       "      <td>1.05</td>\n",
       "      <td>30.5</td>\n",
       "      <td>37.5</td>\n",
       "      <td>43.0</td>\n",
       "      <td>49.0</td>\n",
       "      <td>53.0</td>\n",
       "      <td>0.78</td>\n",
       "      <td>0.90</td>\n",
       "      <td>1.00</td>\n",
       "      <td>1.12</td>\n",
       "      <td>1.24</td>\n",
       "    </tr>\n",
       "    <tr>\n",
       "      <th>8</th>\n",
       "      <td>1.20</td>\n",
       "      <td>32.0</td>\n",
       "      <td>39.0</td>\n",
       "      <td>44.5</td>\n",
       "      <td>50.0</td>\n",
       "      <td>55.0</td>\n",
       "      <td>0.84</td>\n",
       "      <td>0.96</td>\n",
       "      <td>1.06</td>\n",
       "      <td>1.16</td>\n",
       "      <td>1.32</td>\n",
       "    </tr>\n",
       "  </tbody>\n",
       "</table>\n",
       "</div>"
      ],
      "text/plain": [
       "   $I_m,\\ A$  $\\epsilon_1,\\ \\text{дел}$  $\\epsilon_2,\\ \\text{дел}$  \\\n",
       "0       0.00                       11.0                       15.0   \n",
       "1       0.15                       14.0                       19.0   \n",
       "2       0.30                       18.0                       22.5   \n",
       "3       0.45                       21.0                       26.5   \n",
       "4       0.60                       24.0                       30.0   \n",
       "5       0.75                       27.0                       33.0   \n",
       "6       0.90                       29.0                       36.0   \n",
       "7       1.05                       30.5                       37.5   \n",
       "8       1.20                       32.0                       39.0   \n",
       "\n",
       "   $\\epsilon_3,\\ \\text{дел}$  $\\epsilon_4,\\ \\text{дел}$  \\\n",
       "0                       18.0                       21.0   \n",
       "1                       22.0                       25.5   \n",
       "2                       26.5                       30.0   \n",
       "3                       30.5                       35.5   \n",
       "4                       35.0                       40.0   \n",
       "5                       39.0                       44.5   \n",
       "6                       41.0                       47.0   \n",
       "7                       43.0                       49.0   \n",
       "8                       44.5                       50.0   \n",
       "\n",
       "   $\\epsilon_5,\\ \\text{дел}$  $\\epsilon_{1},\\ \\text{мкВ}$  \\\n",
       "0                       22.0                         0.00   \n",
       "1                       26.0                         0.12   \n",
       "2                       32.5                         0.28   \n",
       "3                       38.0                         0.40   \n",
       "4                       44.0                         0.52   \n",
       "5                       48.0                         0.64   \n",
       "6                       51.5                         0.72   \n",
       "7                       53.0                         0.78   \n",
       "8                       55.0                         0.84   \n",
       "\n",
       "   $\\epsilon_{2},\\ \\text{мкВ}$  $\\epsilon_{3},\\ \\text{мкВ}$  \\\n",
       "0                         0.00                         0.00   \n",
       "1                         0.16                         0.16   \n",
       "2                         0.30                         0.34   \n",
       "3                         0.46                         0.50   \n",
       "4                         0.60                         0.68   \n",
       "5                         0.72                         0.84   \n",
       "6                         0.84                         0.92   \n",
       "7                         0.90                         1.00   \n",
       "8                         0.96                         1.06   \n",
       "\n",
       "   $\\epsilon_{4},\\ \\text{мкВ}$  $\\epsilon_{5},\\ \\text{мкВ}$  \n",
       "0                         0.00                         0.00  \n",
       "1                         0.18                         0.16  \n",
       "2                         0.36                         0.42  \n",
       "3                         0.58                         0.64  \n",
       "4                         0.76                         0.88  \n",
       "5                         0.94                         1.04  \n",
       "6                         1.04                         1.18  \n",
       "7                         1.12                         1.24  \n",
       "8                         1.16                         1.32  "
      ]
     },
     "execution_count": 18,
     "metadata": {},
     "output_type": "execute_result"
    }
   ],
   "source": [
    "for i in range(1, 6):\n",
    "    cuprum['$\\epsilon_{%d},\\ \\\\text{мкВ}$' % i] = (cuprum.iloc[:, i]-cuprum.iloc[0, i]) * 0.04\n",
    "cuprum"
   ]
  },
  {
   "cell_type": "code",
   "execution_count": 7,
   "metadata": {
    "collapsed": true
   },
   "outputs": [],
   "source": [
    "def lin(x, a, b):\n",
    "    return a*x+b"
   ]
  },
  {
   "cell_type": "code",
   "execution_count": 32,
   "metadata": {},
   "outputs": [
    {
     "data": {
      "text/plain": [
       "(0.00076890479748001838, 1.6664706177740272e-05)"
      ]
     },
     "execution_count": 32,
     "metadata": {},
     "output_type": "execute_result"
    }
   ],
   "source": [
    "popt1, pcov1 = curve_fit(lin, jb.iloc[:, 1], cuprum.iloc[:, 6])\n",
    "popt1[0], sqrt(pcov1[0][0])"
   ]
  },
  {
   "cell_type": "code",
   "execution_count": 33,
   "metadata": {},
   "outputs": [
    {
     "data": {
      "text/plain": [
       "(0.00087989762905132138, 2.0646898247503351e-05)"
      ]
     },
     "execution_count": 33,
     "metadata": {},
     "output_type": "execute_result"
    }
   ],
   "source": [
    "popt2, pcov2 = curve_fit(lin, jb.iloc[:, 1], cuprum.iloc[:, 7])\n",
    "popt2[0], sqrt(pcov2[0][0])"
   ]
  },
  {
   "cell_type": "code",
   "execution_count": 34,
   "metadata": {},
   "outputs": [
    {
     "data": {
      "text/plain": [
       "(0.00098649888972868194, 1.5327144486362112e-05)"
      ]
     },
     "execution_count": 34,
     "metadata": {},
     "output_type": "execute_result"
    }
   ],
   "source": [
    "popt3, pcov3 = curve_fit(lin, jb.iloc[:, 1], cuprum.iloc[:, 8])\n",
    "popt3[0], sqrt(pcov3[0][0])"
   ]
  },
  {
   "cell_type": "code",
   "execution_count": 35,
   "metadata": {},
   "outputs": [
    {
     "data": {
      "text/plain": [
       "(0.0011004960914967298, 1.175112386429814e-05)"
      ]
     },
     "execution_count": 35,
     "metadata": {},
     "output_type": "execute_result"
    }
   ],
   "source": [
    "popt4, pcov4 = curve_fit(lin, jb.iloc[:, 1], cuprum.iloc[:, 9])\n",
    "popt4[0], sqrt(pcov4[0][0])"
   ]
  },
  {
   "cell_type": "code",
   "execution_count": 36,
   "metadata": {},
   "outputs": [
    {
     "data": {
      "text/plain": [
       "(0.0012521294836949327, 1.5299295328192399e-05)"
      ]
     },
     "execution_count": 36,
     "metadata": {},
     "output_type": "execute_result"
    }
   ],
   "source": [
    "popt5, pcov5 = curve_fit(lin, jb.iloc[:, 1], cuprum.iloc[:, 10])\n",
    "popt5[0], sqrt(pcov5[0][0])"
   ]
  },
  {
   "cell_type": "code",
   "execution_count": 90,
   "metadata": {
    "scrolled": true
   },
   "outputs": [
    {
     "data": {
      "image/png": "[encoded data removed]",
      "text/plain": [
       "<matplotlib.figure.Figure at 0x7f919bf204e0>"
      ]
     },
     "metadata": {},
     "output_type": "display_data"
    }
   ],
   "source": [
    "plot(jb.iloc[:, 1], cuprum.iloc[:, 6], 'bo')\n",
    "plot(jb.iloc[:, 1], lin(jb.iloc[:, 1], popt1[0], popt1[1]) , 'b-')\n",
    "plot(jb.iloc[:, 1], cuprum.iloc[:, 7], 'co')\n",
    "plot(jb.iloc[:, 1], lin(jb.iloc[:, 1], popt2[0], popt2[1]) , 'c-')\n",
    "plot(jb.iloc[:, 1], cuprum.iloc[:, 8], 'go')\n",
    "plot(jb.iloc[:, 1], lin(jb.iloc[:, 1], popt3[0], popt3[1]) , 'g-')\n",
    "plot(jb.iloc[:, 1], cuprum.iloc[:, 9], 'yo')\n",
    "plot(jb.iloc[:, 1], lin(jb.iloc[:, 1], popt4[0], popt4[1]) , 'y-')\n",
    "plot(jb.iloc[:, 1], cuprum.iloc[:, 10], 'ro')\n",
    "plot(jb.iloc[:, 1], lin(jb.iloc[:, 1], popt5[0], popt5[1]) , 'r-')\n",
    "xlabel('$B,\\ mT$')\n",
    "ylabel('$\\epsilon,\\ \\mu V$')\n",
    "savefig('cuprum.png', dpi=300)\n",
    "show()"
   ]
  },
  {
   "cell_type": "code",
   "execution_count": 73,
   "metadata": {},
   "outputs": [
    {
     "data": {
      "text/html": [
       "<div>\n",
       "<style>\n",
       "    .dataframe thead tr:only-child th {\n",
       "        text-align: right;\n",
       "    }\n",
       "\n",
       "    .dataframe thead th {\n",
       "        text-align: left;\n",
       "    }\n",
       "\n",
       "    .dataframe tbody tr th {\n",
       "        vertical-align: top;\n",
       "    }\n",
       "</style>\n",
       "<table border=\"1\" class=\"dataframe\">\n",
       "  <thead>\n",
       "    <tr style=\"text-align: right;\">\n",
       "      <th></th>\n",
       "      <th>$I,\\ \\text{А}$</th>\n",
       "      <th>$k,\\ \\text{мкВ/Тл}$</th>\n",
       "    </tr>\n",
       "  </thead>\n",
       "  <tbody>\n",
       "    <tr>\n",
       "      <th>0</th>\n",
       "      <td>0.6</td>\n",
       "      <td>0.77</td>\n",
       "    </tr>\n",
       "    <tr>\n",
       "      <th>1</th>\n",
       "      <td>0.7</td>\n",
       "      <td>0.88</td>\n",
       "    </tr>\n",
       "    <tr>\n",
       "      <th>2</th>\n",
       "      <td>0.8</td>\n",
       "      <td>0.99</td>\n",
       "    </tr>\n",
       "    <tr>\n",
       "      <th>3</th>\n",
       "      <td>0.9</td>\n",
       "      <td>1.10</td>\n",
       "    </tr>\n",
       "    <tr>\n",
       "      <th>4</th>\n",
       "      <td>1.0</td>\n",
       "      <td>1.25</td>\n",
       "    </tr>\n",
       "  </tbody>\n",
       "</table>\n",
       "</div>"
      ],
      "text/plain": [
       "   $I,\\ \\text{А}$  $k,\\ \\text{мкВ/Тл}$\n",
       "0             0.6                 0.77\n",
       "1             0.7                 0.88\n",
       "2             0.8                 0.99\n",
       "3             0.9                 1.10\n",
       "4             1.0                 1.25"
      ]
     },
     "execution_count": 73,
     "metadata": {},
     "output_type": "execute_result"
    }
   ],
   "source": [
    "cuprumFinal = pd.DataFrame()\n",
    "cuprumFinal['$I,\\ \\\\text{А}$'] = np.array([0.6, 0.7, 0.8, 0.9, 1.0])\n",
    "cuprumFinal['$k,\\ \\\\text{мкВ/Тл}$'] = np.array([0.77, 0.88, 0.99, 1.1, 1.25])\n",
    "cuprumFinal"
   ]
  },
  {
   "cell_type": "code",
   "execution_count": 74,
   "metadata": {},
   "outputs": [
    {
     "data": {
      "text/plain": [
       "(1.1799999999999999, 0.046188021686935823)"
      ]
     },
     "execution_count": 74,
     "metadata": {},
     "output_type": "execute_result"
    }
   ],
   "source": [
    "poptc, pcovc = curve_fit(lin, cuprumFinal.iloc[:, 0], cuprumFinal.iloc[:, 1])\n",
    "poptc[0], sqrt(pcovc[0][0])"
   ]
  },
  {
   "cell_type": "code",
   "execution_count": 91,
   "metadata": {},
   "outputs": [
    {
     "data": {
      "image/png": "[encoded data removed]",
      "text/plain": [
       "<matplotlib.figure.Figure at 0x7f919db64cc0>"
      ]
     },
     "metadata": {},
     "output_type": "display_data"
    }
   ],
   "source": [
    "plot(cuprumFinal.iloc[:,0], cuprumFinal.iloc[:,1], 'go')\n",
    "plot(cuprumFinal.iloc[:,0], lin(cuprumFinal.iloc[:,0], poptc[0], poptc[1]), '-g')\n",
    "xlabel('$I,\\ A$')\n",
    "ylabel('$k,\\ \\mu V/T$')\n",
    "savefig('cuprumFinal.png', dpi=300)\n",
    "show()"
   ]
  },
  {
   "cell_type": "code",
   "execution_count": 79,
   "metadata": {},
   "outputs": [
    {
     "data": {
      "text/html": [
       "<div>\n",
       "<style>\n",
       "    .dataframe thead tr:only-child th {\n",
       "        text-align: right;\n",
       "    }\n",
       "\n",
       "    .dataframe thead th {\n",
       "        text-align: left;\n",
       "    }\n",
       "\n",
       "    .dataframe tbody tr th {\n",
       "        vertical-align: top;\n",
       "    }\n",
       "</style>\n",
       "<table border=\"1\" class=\"dataframe\">\n",
       "  <thead>\n",
       "    <tr style=\"text-align: right;\">\n",
       "      <th></th>\n",
       "      <th>$I_m,\\ A$</th>\n",
       "      <th>$\\epsilon_1,\\ \\text{дел}$</th>\n",
       "      <th>$\\epsilon_2,\\ \\text{дел}$</th>\n",
       "      <th>$\\epsilon_3,\\ \\text{дел}$</th>\n",
       "      <th>$\\epsilon_4,\\ \\text{дел}$</th>\n",
       "      <th>$\\epsilon_5,\\ \\text{дел}$</th>\n",
       "    </tr>\n",
       "  </thead>\n",
       "  <tbody>\n",
       "    <tr>\n",
       "      <th>0</th>\n",
       "      <td>0.00</td>\n",
       "      <td>-2</td>\n",
       "      <td>-3.5</td>\n",
       "      <td>-5.0</td>\n",
       "      <td>-6.5</td>\n",
       "      <td>-8.0</td>\n",
       "    </tr>\n",
       "    <tr>\n",
       "      <th>1</th>\n",
       "      <td>0.15</td>\n",
       "      <td>1</td>\n",
       "      <td>0.0</td>\n",
       "      <td>-1.0</td>\n",
       "      <td>-2.0</td>\n",
       "      <td>-3.0</td>\n",
       "    </tr>\n",
       "    <tr>\n",
       "      <th>2</th>\n",
       "      <td>0.30</td>\n",
       "      <td>4</td>\n",
       "      <td>4.0</td>\n",
       "      <td>3.5</td>\n",
       "      <td>3.0</td>\n",
       "      <td>2.5</td>\n",
       "    </tr>\n",
       "    <tr>\n",
       "      <th>3</th>\n",
       "      <td>0.45</td>\n",
       "      <td>8</td>\n",
       "      <td>8.0</td>\n",
       "      <td>8.0</td>\n",
       "      <td>8.0</td>\n",
       "      <td>8.0</td>\n",
       "    </tr>\n",
       "    <tr>\n",
       "      <th>4</th>\n",
       "      <td>0.60</td>\n",
       "      <td>11</td>\n",
       "      <td>11.5</td>\n",
       "      <td>12.0</td>\n",
       "      <td>13.0</td>\n",
       "      <td>13.0</td>\n",
       "    </tr>\n",
       "    <tr>\n",
       "      <th>5</th>\n",
       "      <td>0.75</td>\n",
       "      <td>13</td>\n",
       "      <td>14.5</td>\n",
       "      <td>15.5</td>\n",
       "      <td>16.5</td>\n",
       "      <td>17.0</td>\n",
       "    </tr>\n",
       "    <tr>\n",
       "      <th>6</th>\n",
       "      <td>0.90</td>\n",
       "      <td>15</td>\n",
       "      <td>16.5</td>\n",
       "      <td>18.0</td>\n",
       "      <td>19.0</td>\n",
       "      <td>20.0</td>\n",
       "    </tr>\n",
       "    <tr>\n",
       "      <th>7</th>\n",
       "      <td>1.05</td>\n",
       "      <td>16</td>\n",
       "      <td>18.0</td>\n",
       "      <td>19.5</td>\n",
       "      <td>20.5</td>\n",
       "      <td>22.0</td>\n",
       "    </tr>\n",
       "    <tr>\n",
       "      <th>8</th>\n",
       "      <td>1.20</td>\n",
       "      <td>17</td>\n",
       "      <td>19.0</td>\n",
       "      <td>20.5</td>\n",
       "      <td>22.0</td>\n",
       "      <td>24.0</td>\n",
       "    </tr>\n",
       "  </tbody>\n",
       "</table>\n",
       "</div>"
      ],
      "text/plain": [
       "   $I_m,\\ A$  $\\epsilon_1,\\ \\text{дел}$  $\\epsilon_2,\\ \\text{дел}$  \\\n",
       "0       0.00                         -2                       -3.5   \n",
       "1       0.15                          1                        0.0   \n",
       "2       0.30                          4                        4.0   \n",
       "3       0.45                          8                        8.0   \n",
       "4       0.60                         11                       11.5   \n",
       "5       0.75                         13                       14.5   \n",
       "6       0.90                         15                       16.5   \n",
       "7       1.05                         16                       18.0   \n",
       "8       1.20                         17                       19.0   \n",
       "\n",
       "   $\\epsilon_3,\\ \\text{дел}$  $\\epsilon_4,\\ \\text{дел}$  \\\n",
       "0                       -5.0                       -6.5   \n",
       "1                       -1.0                       -2.0   \n",
       "2                        3.5                        3.0   \n",
       "3                        8.0                        8.0   \n",
       "4                       12.0                       13.0   \n",
       "5                       15.5                       16.5   \n",
       "6                       18.0                       19.0   \n",
       "7                       19.5                       20.5   \n",
       "8                       20.5                       22.0   \n",
       "\n",
       "   $\\epsilon_5,\\ \\text{дел}$  \n",
       "0                       -8.0  \n",
       "1                       -3.0  \n",
       "2                        2.5  \n",
       "3                        8.0  \n",
       "4                       13.0  \n",
       "5                       17.0  \n",
       "6                       20.0  \n",
       "7                       22.0  \n",
       "8                       24.0  "
      ]
     },
     "execution_count": 79,
     "metadata": {},
     "output_type": "execute_result"
    }
   ],
   "source": [
    "alum = pd.read_csv('aluminum.tsv', delimiter='\\t')\n",
    "alum"
   ]
  },
  {
   "cell_type": "code",
   "execution_count": 81,
   "metadata": {},
   "outputs": [
    {
     "data": {
      "text/html": [
       "<div>\n",
       "<style>\n",
       "    .dataframe thead tr:only-child th {\n",
       "        text-align: right;\n",
       "    }\n",
       "\n",
       "    .dataframe thead th {\n",
       "        text-align: left;\n",
       "    }\n",
       "\n",
       "    .dataframe tbody tr th {\n",
       "        vertical-align: top;\n",
       "    }\n",
       "</style>\n",
       "<table border=\"1\" class=\"dataframe\">\n",
       "  <thead>\n",
       "    <tr style=\"text-align: right;\">\n",
       "      <th></th>\n",
       "      <th>$I_m,\\ A$</th>\n",
       "      <th>$\\epsilon_1,\\ \\text{дел}$</th>\n",
       "      <th>$\\epsilon_2,\\ \\text{дел}$</th>\n",
       "      <th>$\\epsilon_3,\\ \\text{дел}$</th>\n",
       "      <th>$\\epsilon_4,\\ \\text{дел}$</th>\n",
       "      <th>$\\epsilon_5,\\ \\text{дел}$</th>\n",
       "      <th>$\\epsilon_{1},\\ \\text{мкВ}$</th>\n",
       "      <th>$\\epsilon_{2},\\ \\text{мкВ}$</th>\n",
       "      <th>$\\epsilon_{3},\\ \\text{мкВ}$</th>\n",
       "      <th>$\\epsilon_{4},\\ \\text{мкВ}$</th>\n",
       "      <th>$\\epsilon_{5},\\ \\text{мкВ}$</th>\n",
       "    </tr>\n",
       "  </thead>\n",
       "  <tbody>\n",
       "    <tr>\n",
       "      <th>0</th>\n",
       "      <td>0.00</td>\n",
       "      <td>-2</td>\n",
       "      <td>-3.5</td>\n",
       "      <td>-5.0</td>\n",
       "      <td>-6.5</td>\n",
       "      <td>-8.0</td>\n",
       "      <td>0.00</td>\n",
       "      <td>0.00</td>\n",
       "      <td>0.00</td>\n",
       "      <td>0.00</td>\n",
       "      <td>0.00</td>\n",
       "    </tr>\n",
       "    <tr>\n",
       "      <th>1</th>\n",
       "      <td>0.15</td>\n",
       "      <td>1</td>\n",
       "      <td>0.0</td>\n",
       "      <td>-1.0</td>\n",
       "      <td>-2.0</td>\n",
       "      <td>-3.0</td>\n",
       "      <td>0.12</td>\n",
       "      <td>0.14</td>\n",
       "      <td>0.16</td>\n",
       "      <td>0.18</td>\n",
       "      <td>0.20</td>\n",
       "    </tr>\n",
       "    <tr>\n",
       "      <th>2</th>\n",
       "      <td>0.30</td>\n",
       "      <td>4</td>\n",
       "      <td>4.0</td>\n",
       "      <td>3.5</td>\n",
       "      <td>3.0</td>\n",
       "      <td>2.5</td>\n",
       "      <td>0.24</td>\n",
       "      <td>0.30</td>\n",
       "      <td>0.34</td>\n",
       "      <td>0.38</td>\n",
       "      <td>0.42</td>\n",
       "    </tr>\n",
       "    <tr>\n",
       "      <th>3</th>\n",
       "      <td>0.45</td>\n",
       "      <td>8</td>\n",
       "      <td>8.0</td>\n",
       "      <td>8.0</td>\n",
       "      <td>8.0</td>\n",
       "      <td>8.0</td>\n",
       "      <td>0.40</td>\n",
       "      <td>0.46</td>\n",
       "      <td>0.52</td>\n",
       "      <td>0.58</td>\n",
       "      <td>0.64</td>\n",
       "    </tr>\n",
       "    <tr>\n",
       "      <th>4</th>\n",
       "      <td>0.60</td>\n",
       "      <td>11</td>\n",
       "      <td>11.5</td>\n",
       "      <td>12.0</td>\n",
       "      <td>13.0</td>\n",
       "      <td>13.0</td>\n",
       "      <td>0.52</td>\n",
       "      <td>0.60</td>\n",
       "      <td>0.68</td>\n",
       "      <td>0.78</td>\n",
       "      <td>0.84</td>\n",
       "    </tr>\n",
       "    <tr>\n",
       "      <th>5</th>\n",
       "      <td>0.75</td>\n",
       "      <td>13</td>\n",
       "      <td>14.5</td>\n",
       "      <td>15.5</td>\n",
       "      <td>16.5</td>\n",
       "      <td>17.0</td>\n",
       "      <td>0.60</td>\n",
       "      <td>0.72</td>\n",
       "      <td>0.82</td>\n",
       "      <td>0.92</td>\n",
       "      <td>1.00</td>\n",
       "    </tr>\n",
       "    <tr>\n",
       "      <th>6</th>\n",
       "      <td>0.90</td>\n",
       "      <td>15</td>\n",
       "      <td>16.5</td>\n",
       "      <td>18.0</td>\n",
       "      <td>19.0</td>\n",
       "      <td>20.0</td>\n",
       "      <td>0.68</td>\n",
       "      <td>0.80</td>\n",
       "      <td>0.92</td>\n",
       "      <td>1.02</td>\n",
       "      <td>1.12</td>\n",
       "    </tr>\n",
       "    <tr>\n",
       "      <th>7</th>\n",
       "      <td>1.05</td>\n",
       "      <td>16</td>\n",
       "      <td>18.0</td>\n",
       "      <td>19.5</td>\n",
       "      <td>20.5</td>\n",
       "      <td>22.0</td>\n",
       "      <td>0.72</td>\n",
       "      <td>0.86</td>\n",
       "      <td>0.98</td>\n",
       "      <td>1.08</td>\n",
       "      <td>1.20</td>\n",
       "    </tr>\n",
       "    <tr>\n",
       "      <th>8</th>\n",
       "      <td>1.20</td>\n",
       "      <td>17</td>\n",
       "      <td>19.0</td>\n",
       "      <td>20.5</td>\n",
       "      <td>22.0</td>\n",
       "      <td>24.0</td>\n",
       "      <td>0.76</td>\n",
       "      <td>0.90</td>\n",
       "      <td>1.02</td>\n",
       "      <td>1.14</td>\n",
       "      <td>1.28</td>\n",
       "    </tr>\n",
       "  </tbody>\n",
       "</table>\n",
       "</div>"
      ],
      "text/plain": [
       "   $I_m,\\ A$  $\\epsilon_1,\\ \\text{дел}$  $\\epsilon_2,\\ \\text{дел}$  \\\n",
       "0       0.00                         -2                       -3.5   \n",
       "1       0.15                          1                        0.0   \n",
       "2       0.30                          4                        4.0   \n",
       "3       0.45                          8                        8.0   \n",
       "4       0.60                         11                       11.5   \n",
       "5       0.75                         13                       14.5   \n",
       "6       0.90                         15                       16.5   \n",
       "7       1.05                         16                       18.0   \n",
       "8       1.20                         17                       19.0   \n",
       "\n",
       "   $\\epsilon_3,\\ \\text{дел}$  $\\epsilon_4,\\ \\text{дел}$  \\\n",
       "0                       -5.0                       -6.5   \n",
       "1                       -1.0                       -2.0   \n",
       "2                        3.5                        3.0   \n",
       "3                        8.0                        8.0   \n",
       "4                       12.0                       13.0   \n",
       "5                       15.5                       16.5   \n",
       "6                       18.0                       19.0   \n",
       "7                       19.5                       20.5   \n",
       "8                       20.5                       22.0   \n",
       "\n",
       "   $\\epsilon_5,\\ \\text{дел}$  $\\epsilon_{1},\\ \\text{мкВ}$  \\\n",
       "0                       -8.0                         0.00   \n",
       "1                       -3.0                         0.12   \n",
       "2                        2.5                         0.24   \n",
       "3                        8.0                         0.40   \n",
       "4                       13.0                         0.52   \n",
       "5                       17.0                         0.60   \n",
       "6                       20.0                         0.68   \n",
       "7                       22.0                         0.72   \n",
       "8                       24.0                         0.76   \n",
       "\n",
       "   $\\epsilon_{2},\\ \\text{мкВ}$  $\\epsilon_{3},\\ \\text{мкВ}$  \\\n",
       "0                         0.00                         0.00   \n",
       "1                         0.14                         0.16   \n",
       "2                         0.30                         0.34   \n",
       "3                         0.46                         0.52   \n",
       "4                         0.60                         0.68   \n",
       "5                         0.72                         0.82   \n",
       "6                         0.80                         0.92   \n",
       "7                         0.86                         0.98   \n",
       "8                         0.90                         1.02   \n",
       "\n",
       "   $\\epsilon_{4},\\ \\text{мкВ}$  $\\epsilon_{5},\\ \\text{мкВ}$  \n",
       "0                         0.00                         0.00  \n",
       "1                         0.18                         0.20  \n",
       "2                         0.38                         0.42  \n",
       "3                         0.58                         0.64  \n",
       "4                         0.78                         0.84  \n",
       "5                         0.92                         1.00  \n",
       "6                         1.02                         1.12  \n",
       "7                         1.08                         1.20  \n",
       "8                         1.14                         1.28  "
      ]
     },
     "execution_count": 81,
     "metadata": {},
     "output_type": "execute_result"
    }
   ],
   "source": [
    "for i in range(1, 6):\n",
    "    alum['$\\epsilon_{%d},\\ \\\\text{мкВ}$' % i] = (alum.iloc[:, i]-alum.iloc[0, i]) * 0.04\n",
    "alum"
   ]
  },
  {
   "cell_type": "code",
   "execution_count": 82,
   "metadata": {},
   "outputs": [
    {
     "data": {
      "text/plain": [
       "(0.00071161966928187474, 7.6370625008694548e-06)"
      ]
     },
     "execution_count": 82,
     "metadata": {},
     "output_type": "execute_result"
    }
   ],
   "source": [
    "popt1, pcov1 = curve_fit(lin, jb.iloc[:, 1], alum.iloc[:, 6])\n",
    "popt1[0], sqrt(pcov1[0][0])"
   ]
  },
  {
   "cell_type": "code",
   "execution_count": 83,
   "metadata": {},
   "outputs": [
    {
     "data": {
      "text/plain": [
       "(0.00084242278129987994, 3.7109358081309951e-06)"
      ]
     },
     "execution_count": 83,
     "metadata": {},
     "output_type": "execute_result"
    }
   ],
   "source": [
    "popt2, pcov2 = curve_fit(lin, jb.iloc[:, 1], alum.iloc[:, 7])\n",
    "popt2[0], sqrt(pcov2[0][0])"
   ]
  },
  {
   "cell_type": "code",
   "execution_count": 84,
   "metadata": {},
   "outputs": [
    {
     "data": {
      "text/plain": [
       "(0.00096037202158310295, 5.5012184803210137e-06)"
      ]
     },
     "execution_count": 84,
     "metadata": {},
     "output_type": "execute_result"
    }
   ],
   "source": [
    "popt3, pcov3 = curve_fit(lin, jb.iloc[:, 1], alum.iloc[:, 8])\n",
    "popt3[0], sqrt(pcov3[0][0])"
   ]
  },
  {
   "cell_type": "code",
   "execution_count": 85,
   "metadata": {},
   "outputs": [
    {
     "data": {
      "text/plain": [
       "(0.0010679932865733331, 5.7814202112091163e-06)"
      ]
     },
     "execution_count": 85,
     "metadata": {},
     "output_type": "execute_result"
    }
   ],
   "source": [
    "popt4, pcov4 = curve_fit(lin, jb.iloc[:, 1], alum.iloc[:, 9])\n",
    "popt4[0], sqrt(pcov4[0][0])"
   ]
  },
  {
   "cell_type": "code",
   "execution_count": 86,
   "metadata": {},
   "outputs": [
    {
     "data": {
      "text/plain": [
       "(0.0011824949235539313, 1.1495291645092109e-05)"
      ]
     },
     "execution_count": 86,
     "metadata": {},
     "output_type": "execute_result"
    }
   ],
   "source": [
    "popt5, pcov5 = curve_fit(lin, jb.iloc[:, 1], alum.iloc[:, 10])\n",
    "popt5[0], sqrt(pcov5[0][0])"
   ]
  },
  {
   "cell_type": "code",
   "execution_count": 92,
   "metadata": {},
   "outputs": [
    {
     "data": {
      "image/png": "[encoded data removed]",
      "text/plain": [
       "<matplotlib.figure.Figure at 0x7f919bf8e668>"
      ]
     },
     "metadata": {},
     "output_type": "display_data"
    }
   ],
   "source": [
    "plot(jb.iloc[:, 1], alum.iloc[:, 6], 'bo')\n",
    "plot(jb.iloc[:, 1], lin(jb.iloc[:, 1], popt1[0], popt1[1]) , 'b-')\n",
    "plot(jb.iloc[:, 1], alum.iloc[:, 7], 'co')\n",
    "plot(jb.iloc[:, 1], lin(jb.iloc[:, 1], popt2[0], popt2[1]) , 'c-')\n",
    "plot(jb.iloc[:, 1], alum.iloc[:, 8], 'go')\n",
    "plot(jb.iloc[:, 1], lin(jb.iloc[:, 1], popt3[0], popt3[1]) , 'g-')\n",
    "plot(jb.iloc[:, 1], alum.iloc[:, 9], 'yo')\n",
    "plot(jb.iloc[:, 1], lin(jb.iloc[:, 1], popt4[0], popt4[1]) , 'y-')\n",
    "plot(jb.iloc[:, 1], alum.iloc[:, 10], 'ro')\n",
    "plot(jb.iloc[:, 1], lin(jb.iloc[:, 1], popt5[0], popt5[1]) , 'r-')\n",
    "xlabel('$B,\\ mT$')\n",
    "ylabel('$\\epsilon,\\ \\mu V$')\n",
    "savefig('alum.png', dpi=300)\n",
    "show()"
   ]
  },
  {
   "cell_type": "code",
   "execution_count": 93,
   "metadata": {},
   "outputs": [
    {
     "data": {
      "text/html": [
       "<div>\n",
       "<style>\n",
       "    .dataframe thead tr:only-child th {\n",
       "        text-align: right;\n",
       "    }\n",
       "\n",
       "    .dataframe thead th {\n",
       "        text-align: left;\n",
       "    }\n",
       "\n",
       "    .dataframe tbody tr th {\n",
       "        vertical-align: top;\n",
       "    }\n",
       "</style>\n",
       "<table border=\"1\" class=\"dataframe\">\n",
       "  <thead>\n",
       "    <tr style=\"text-align: right;\">\n",
       "      <th></th>\n",
       "      <th>$I,\\ \\text{А}$</th>\n",
       "      <th>$k,\\ \\text{мкВ/Тл}$</th>\n",
       "    </tr>\n",
       "  </thead>\n",
       "  <tbody>\n",
       "    <tr>\n",
       "      <th>0</th>\n",
       "      <td>0.6</td>\n",
       "      <td>0.71</td>\n",
       "    </tr>\n",
       "    <tr>\n",
       "      <th>1</th>\n",
       "      <td>0.7</td>\n",
       "      <td>0.84</td>\n",
       "    </tr>\n",
       "    <tr>\n",
       "      <th>2</th>\n",
       "      <td>0.8</td>\n",
       "      <td>0.96</td>\n",
       "    </tr>\n",
       "    <tr>\n",
       "      <th>3</th>\n",
       "      <td>0.9</td>\n",
       "      <td>1.07</td>\n",
       "    </tr>\n",
       "    <tr>\n",
       "      <th>4</th>\n",
       "      <td>1.0</td>\n",
       "      <td>1.18</td>\n",
       "    </tr>\n",
       "  </tbody>\n",
       "</table>\n",
       "</div>"
      ],
      "text/plain": [
       "   $I,\\ \\text{А}$  $k,\\ \\text{мкВ/Тл}$\n",
       "0             0.6                 0.71\n",
       "1             0.7                 0.84\n",
       "2             0.8                 0.96\n",
       "3             0.9                 1.07\n",
       "4             1.0                 1.18"
      ]
     },
     "execution_count": 93,
     "metadata": {},
     "output_type": "execute_result"
    }
   ],
   "source": [
    "alumFinal = pd.DataFrame()\n",
    "alumFinal['$I,\\ \\\\text{А}$'] = np.array([0.6, 0.7, 0.8, 0.9, 1.0])\n",
    "alumFinal['$k,\\ \\\\text{мкВ/Тл}$'] = np.array([0.71, 0.84, 0.96, 1.07, 1.18])\n",
    "alumFinal"
   ]
  },
  {
   "cell_type": "code",
   "execution_count": 94,
   "metadata": {},
   "outputs": [
    {
     "data": {
      "text/plain": [
       "(1.1699999979142088, 0.025166095309681044)"
      ]
     },
     "execution_count": 94,
     "metadata": {},
     "output_type": "execute_result"
    }
   ],
   "source": [
    "popta, pcova = curve_fit(lin, alumFinal.iloc[:, 0], alumFinal.iloc[:, 1])\n",
    "popta[0], sqrt(pcova[0][0])"
   ]
  },
  {
   "cell_type": "code",
   "execution_count": 95,
   "metadata": {},
   "outputs": [
    {
     "data": {
      "image/png": "[encoded data removed]",
      "text/plain": [
       "<matplotlib.figure.Figure at 0x7f919bf7a6d8>"
      ]
     },
     "metadata": {},
     "output_type": "display_data"
    }
   ],
   "source": [
    "plot(alumFinal.iloc[:,0], alumFinal.iloc[:,1], 'go')\n",
    "plot(alumFinal.iloc[:,0], lin(alumFinal.iloc[:,0], popta[0], popta[1]), '-g')\n",
    "xlabel('$I,\\ A$')\n",
    "ylabel('$k,\\ \\mu V/T$')\n",
    "savefig('alumFinal.png', dpi=300)\n",
    "show()"
   ]
  },
  {
   "cell_type": "code",
   "execution_count": 2,
   "metadata": {},
   "outputs": [
    {
     "data": {
      "text/html": [
       "<div>\n",
       "<style>\n",
       "    .dataframe thead tr:only-child th {\n",
       "        text-align: right;\n",
       "    }\n",
       "\n",
       "    .dataframe thead th {\n",
       "        text-align: left;\n",
       "    }\n",
       "\n",
       "    .dataframe tbody tr th {\n",
       "        vertical-align: top;\n",
       "    }\n",
       "</style>\n",
       "<table border=\"1\" class=\"dataframe\">\n",
       "  <thead>\n",
       "    <tr style=\"text-align: right;\">\n",
       "      <th></th>\n",
       "      <th>$I_m,\\ A$</th>\n",
       "      <th>$\\epsilon,\\ \\text{дел}$</th>\n",
       "    </tr>\n",
       "  </thead>\n",
       "  <tbody>\n",
       "    <tr>\n",
       "      <th>0</th>\n",
       "      <td>0.00</td>\n",
       "      <td>32.0</td>\n",
       "    </tr>\n",
       "    <tr>\n",
       "      <th>1</th>\n",
       "      <td>0.15</td>\n",
       "      <td>36.0</td>\n",
       "    </tr>\n",
       "    <tr>\n",
       "      <th>2</th>\n",
       "      <td>0.30</td>\n",
       "      <td>40.5</td>\n",
       "    </tr>\n",
       "    <tr>\n",
       "      <th>3</th>\n",
       "      <td>0.45</td>\n",
       "      <td>45.0</td>\n",
       "    </tr>\n",
       "    <tr>\n",
       "      <th>4</th>\n",
       "      <td>0.60</td>\n",
       "      <td>48.5</td>\n",
       "    </tr>\n",
       "    <tr>\n",
       "      <th>5</th>\n",
       "      <td>0.75</td>\n",
       "      <td>51.5</td>\n",
       "    </tr>\n",
       "    <tr>\n",
       "      <th>6</th>\n",
       "      <td>0.90</td>\n",
       "      <td>54.0</td>\n",
       "    </tr>\n",
       "    <tr>\n",
       "      <th>7</th>\n",
       "      <td>1.05</td>\n",
       "      <td>56.0</td>\n",
       "    </tr>\n",
       "    <tr>\n",
       "      <th>8</th>\n",
       "      <td>1.20</td>\n",
       "      <td>57.0</td>\n",
       "    </tr>\n",
       "  </tbody>\n",
       "</table>\n",
       "</div>"
      ],
      "text/plain": [
       "   $I_m,\\ A$  $\\epsilon,\\ \\text{дел}$\n",
       "0       0.00                     32.0\n",
       "1       0.15                     36.0\n",
       "2       0.30                     40.5\n",
       "3       0.45                     45.0\n",
       "4       0.60                     48.5\n",
       "5       0.75                     51.5\n",
       "6       0.90                     54.0\n",
       "7       1.05                     56.0\n",
       "8       1.20                     57.0"
      ]
     },
     "execution_count": 2,
     "metadata": {},
     "output_type": "execute_result"
    }
   ],
   "source": [
    "zink = pd.read_csv('zink.tsv', delimiter='\\t')\n",
    "zink"
   ]
  },
  {
   "cell_type": "code",
   "execution_count": 5,
   "metadata": {},
   "outputs": [
    {
     "data": {
      "text/html": [
       "<div>\n",
       "<style>\n",
       "    .dataframe thead tr:only-child th {\n",
       "        text-align: right;\n",
       "    }\n",
       "\n",
       "    .dataframe thead th {\n",
       "        text-align: left;\n",
       "    }\n",
       "\n",
       "    .dataframe tbody tr th {\n",
       "        vertical-align: top;\n",
       "    }\n",
       "</style>\n",
       "<table border=\"1\" class=\"dataframe\">\n",
       "  <thead>\n",
       "    <tr style=\"text-align: right;\">\n",
       "      <th></th>\n",
       "      <th>$I_m,\\ A$</th>\n",
       "      <th>$\\epsilon,\\ \\text{дел}$</th>\n",
       "      <th>$\\epsilon,\\ мкВ$</th>\n",
       "      <th>$B,\\ мТл$</th>\n",
       "    </tr>\n",
       "  </thead>\n",
       "  <tbody>\n",
       "    <tr>\n",
       "      <th>0</th>\n",
       "      <td>0.00</td>\n",
       "      <td>32.0</td>\n",
       "      <td>0.00</td>\n",
       "      <td>21</td>\n",
       "    </tr>\n",
       "    <tr>\n",
       "      <th>1</th>\n",
       "      <td>0.15</td>\n",
       "      <td>36.0</td>\n",
       "      <td>0.16</td>\n",
       "      <td>182</td>\n",
       "    </tr>\n",
       "    <tr>\n",
       "      <th>2</th>\n",
       "      <td>0.30</td>\n",
       "      <td>40.5</td>\n",
       "      <td>0.34</td>\n",
       "      <td>370</td>\n",
       "    </tr>\n",
       "    <tr>\n",
       "      <th>3</th>\n",
       "      <td>0.45</td>\n",
       "      <td>45.0</td>\n",
       "      <td>0.52</td>\n",
       "      <td>565</td>\n",
       "    </tr>\n",
       "    <tr>\n",
       "      <th>4</th>\n",
       "      <td>0.60</td>\n",
       "      <td>48.5</td>\n",
       "      <td>0.66</td>\n",
       "      <td>739</td>\n",
       "    </tr>\n",
       "    <tr>\n",
       "      <th>5</th>\n",
       "      <td>0.75</td>\n",
       "      <td>51.5</td>\n",
       "      <td>0.78</td>\n",
       "      <td>878</td>\n",
       "    </tr>\n",
       "    <tr>\n",
       "      <th>6</th>\n",
       "      <td>0.90</td>\n",
       "      <td>54.0</td>\n",
       "      <td>0.88</td>\n",
       "      <td>969</td>\n",
       "    </tr>\n",
       "    <tr>\n",
       "      <th>7</th>\n",
       "      <td>1.05</td>\n",
       "      <td>56.0</td>\n",
       "      <td>0.96</td>\n",
       "      <td>1038</td>\n",
       "    </tr>\n",
       "    <tr>\n",
       "      <th>8</th>\n",
       "      <td>1.20</td>\n",
       "      <td>57.0</td>\n",
       "      <td>1.00</td>\n",
       "      <td>1081</td>\n",
       "    </tr>\n",
       "  </tbody>\n",
       "</table>\n",
       "</div>"
      ],
      "text/plain": [
       "   $I_m,\\ A$  $\\epsilon,\\ \\text{дел}$  $\\epsilon,\\ мкВ$  $B,\\ мТл$\n",
       "0       0.00                     32.0              0.00         21\n",
       "1       0.15                     36.0              0.16        182\n",
       "2       0.30                     40.5              0.34        370\n",
       "3       0.45                     45.0              0.52        565\n",
       "4       0.60                     48.5              0.66        739\n",
       "5       0.75                     51.5              0.78        878\n",
       "6       0.90                     54.0              0.88        969\n",
       "7       1.05                     56.0              0.96       1038\n",
       "8       1.20                     57.0              1.00       1081"
      ]
     },
     "execution_count": 5,
     "metadata": {},
     "output_type": "execute_result"
    }
   ],
   "source": [
    "zink['$\\epsilon,\\ мкВ$'] = (zink.iloc[:, 1] - zink.iloc[0, 1]) * 0.04\n",
    "zink['$B,\\ мТл$'] = jb.iloc[:, 1]\n",
    "zink"
   ]
  },
  {
   "cell_type": "code",
   "execution_count": 8,
   "metadata": {},
   "outputs": [
    {
     "data": {
      "text/plain": [
       "(0.00092686590698269806, 1.1404907620206966e-05)"
      ]
     },
     "execution_count": 8,
     "metadata": {},
     "output_type": "execute_result"
    }
   ],
   "source": [
    "poptz, pcovz = curve_fit(lin, jb.iloc[:, 1], zink.iloc[:, 2])\n",
    "poptz[0], sqrt(pcovz[0][0])"
   ]
  },
  {
   "cell_type": "code",
   "execution_count": 113,
   "metadata": {},
   "outputs": [
    {
     "data": {
      "image/png": "[encoded data removed]",
      "text/plain": [
       "<matplotlib.figure.Figure at 0x7f919c898550>"
      ]
     },
     "metadata": {},
     "output_type": "display_data"
    }
   ],
   "source": [
    "plot(jb.iloc[:, 1], zink.iloc[:, 2], 'go')\n",
    "plot(jb.iloc[:, 1], lin(jb.iloc[:, 1], poptz[0], poptz[1]), '-g')\n",
    "xlabel('$B,\\ mT$')\n",
    "ylabel('$\\epsilon,\\ \\mu V$')\n",
    "savefig('zink.png', dpi=300)\n",
    "show()"
   ]
  },
  {
   "cell_type": "code",
   "execution_count": 116,
   "metadata": {},
   "outputs": [
    {
     "name": "stdout",
     "output_type": "stream",
     "text": [
      "\\begin{tabular}{rr}\\\\\n",
      "$J,\\ \\text{А}$ & $B,\\ \\text{мТл}$\\\\ \\hline\n",
      "$0.0$ & $21.0$ \\\\\n",
      "$0.15$ & $182.0$ \\\\\n",
      "$0.3$ & $370.0$ \\\\\n",
      "$0.45$ & $565.0$ \\\\\n",
      "$0.6$ & $739.0$ \\\\\n",
      "$0.75$ & $878.0$ \\\\\n",
      "$0.9$ & $969.0$ \\\\\n",
      "$1.05$ & $1038.0$ \\\\\n",
      "$1.2$ & $1081.0$ \\\\\n",
      "\\end{tabular}\n"
     ]
    }
   ],
   "source": [
    "sl.table(jb)"
   ]
  },
  {
   "cell_type": "code",
   "execution_count": 117,
   "metadata": {},
   "outputs": [
    {
     "name": "stdout",
     "output_type": "stream",
     "text": [
      "\\begin{tabular}{rrrrrrrrrrr}\\\\\n",
      "$I_m,\\ A$ & $\\epsilon_1,\\ \\text{дел}$ & $\\epsilon_2,\\ \\text{дел}$ & $\\epsilon_3,\\ \\text{дел}$ & $\\epsilon_4,\\ \\text{дел}$ & $\\epsilon_5,\\ \\text{дел}$ & $\\epsilon_{1},\\ \\text{мкВ}$ & $\\epsilon_{2},\\ \\text{мкВ}$ & $\\epsilon_{3},\\ \\text{мкВ}$ & $\\epsilon_{4},\\ \\text{мкВ}$ & $\\epsilon_{5},\\ \\text{мкВ}$\\\\ \\hline\n",
      "$0.0$ & $11.0$ & $15.0$ & $18.0$ & $21.0$ & $22.0$ & $0.0$ & $0.0$ & $0.0$ & $0.0$ & $0.0$ \\\\\n",
      "$0.15$ & $14.0$ & $19.0$ & $22.0$ & $25.5$ & $26.0$ & $0.12$ & $0.16$ & $0.16$ & $0.18$ & $0.16$ \\\\\n",
      "$0.3$ & $18.0$ & $22.5$ & $26.5$ & $30.0$ & $32.5$ & $0.28$ & $0.3$ & $0.34$ & $0.36$ & $0.42$ \\\\\n",
      "$0.45$ & $21.0$ & $26.5$ & $30.5$ & $35.5$ & $38.0$ & $0.4$ & $0.46$ & $0.5$ & $0.58$ & $0.64$ \\\\\n",
      "$0.6$ & $24.0$ & $30.0$ & $35.0$ & $40.0$ & $44.0$ & $0.52$ & $0.6$ & $0.68$ & $0.76$ & $0.88$ \\\\\n",
      "$0.75$ & $27.0$ & $33.0$ & $39.0$ & $44.5$ & $48.0$ & $0.64$ & $0.72$ & $0.84$ & $0.94$ & $1.04$ \\\\\n",
      "$0.9$ & $29.0$ & $36.0$ & $41.0$ & $47.0$ & $51.5$ & $0.72$ & $0.84$ & $0.92$ & $1.04$ & $1.18$ \\\\\n",
      "$1.05$ & $30.5$ & $37.5$ & $43.0$ & $49.0$ & $53.0$ & $0.78$ & $0.9$ & $1.0$ & $1.12$ & $1.24$ \\\\\n",
      "$1.2$ & $32.0$ & $39.0$ & $44.5$ & $50.0$ & $55.0$ & $0.84$ & $0.96$ & $1.06$ & $1.16$ & $1.32$ \\\\\n",
      "\\end{tabular}\n"
     ]
    }
   ],
   "source": [
    "sl.table(cuprum)"
   ]
  },
  {
   "cell_type": "code",
   "execution_count": 118,
   "metadata": {},
   "outputs": [
    {
     "name": "stdout",
     "output_type": "stream",
     "text": [
      "\\begin{tabular}{rr}\\\\\n",
      "$I,\\ \\text{А}$ & $k,\\ \\text{мкВ/Тл}$\\\\ \\hline\n",
      "$0.6$ & $0.77$ \\\\\n",
      "$0.7$ & $0.88$ \\\\\n",
      "$0.8$ & $0.99$ \\\\\n",
      "$0.9$ & $1.1$ \\\\\n",
      "$1.0$ & $1.25$ \\\\\n",
      "\\end{tabular}\n"
     ]
    }
   ],
   "source": [
    "sl.table(cuprumFinal)"
   ]
  },
  {
   "cell_type": "code",
   "execution_count": 119,
   "metadata": {},
   "outputs": [
    {
     "name": "stdout",
     "output_type": "stream",
     "text": [
      "\\begin{tabular}{rrrrrrrrrrr}\\\\\n",
      "$I_m,\\ A$ & $\\epsilon_1,\\ \\text{дел}$ & $\\epsilon_2,\\ \\text{дел}$ & $\\epsilon_3,\\ \\text{дел}$ & $\\epsilon_4,\\ \\text{дел}$ & $\\epsilon_5,\\ \\text{дел}$ & $\\epsilon_{1},\\ \\text{мкВ}$ & $\\epsilon_{2},\\ \\text{мкВ}$ & $\\epsilon_{3},\\ \\text{мкВ}$ & $\\epsilon_{4},\\ \\text{мкВ}$ & $\\epsilon_{5},\\ \\text{мкВ}$\\\\ \\hline\n",
      "$0.0$ & $-2.0$ & $-3.5$ & $-5.0$ & $-6.5$ & $-8.0$ & $0.0$ & $0.0$ & $0.0$ & $0.0$ & $0.0$ \\\\\n",
      "$0.15$ & $1.0$ & $0.0$ & $-1.0$ & $-2.0$ & $-3.0$ & $0.12$ & $0.14$ & $0.16$ & $0.18$ & $0.2$ \\\\\n",
      "$0.3$ & $4.0$ & $4.0$ & $3.5$ & $3.0$ & $2.5$ & $0.24$ & $0.3$ & $0.34$ & $0.38$ & $0.42$ \\\\\n",
      "$0.45$ & $8.0$ & $8.0$ & $8.0$ & $8.0$ & $8.0$ & $0.4$ & $0.46$ & $0.52$ & $0.58$ & $0.64$ \\\\\n",
      "$0.6$ & $11.0$ & $11.5$ & $12.0$ & $13.0$ & $13.0$ & $0.52$ & $0.6$ & $0.68$ & $0.78$ & $0.84$ \\\\\n",
      "$0.75$ & $13.0$ & $14.5$ & $15.5$ & $16.5$ & $17.0$ & $0.6$ & $0.72$ & $0.82$ & $0.92$ & $1.0$ \\\\\n",
      "$0.9$ & $15.0$ & $16.5$ & $18.0$ & $19.0$ & $20.0$ & $0.68$ & $0.8$ & $0.92$ & $1.02$ & $1.12$ \\\\\n",
      "$1.05$ & $16.0$ & $18.0$ & $19.5$ & $20.5$ & $22.0$ & $0.72$ & $0.86$ & $0.98$ & $1.08$ & $1.2$ \\\\\n",
      "$1.2$ & $17.0$ & $19.0$ & $20.5$ & $22.0$ & $24.0$ & $0.76$ & $0.9$ & $1.02$ & $1.14$ & $1.28$ \\\\\n",
      "\\end{tabular}\n"
     ]
    }
   ],
   "source": [
    "sl.table(alum)"
   ]
  },
  {
   "cell_type": "code",
   "execution_count": 120,
   "metadata": {},
   "outputs": [
    {
     "name": "stdout",
     "output_type": "stream",
     "text": [
      "\\begin{tabular}{rr}\\\\\n",
      "$I,\\ \\text{А}$ & $k,\\ \\text{мкВ/Тл}$\\\\ \\hline\n",
      "$0.6$ & $0.71$ \\\\\n",
      "$0.7$ & $0.84$ \\\\\n",
      "$0.8$ & $0.96$ \\\\\n",
      "$0.9$ & $1.07$ \\\\\n",
      "$1.0$ & $1.18$ \\\\\n",
      "\\end{tabular}\n"
     ]
    }
   ],
   "source": [
    "sl.table(alumFinal)"
   ]
  },
  {
   "cell_type": "code",
   "execution_count": 10,
   "metadata": {},
   "outputs": [
    {
     "name": "stdout",
     "output_type": "stream",
     "text": [
      "\\begin{tabular}{rrrr}\\\\\n",
      "$I_m,\\ A$ & $\\epsilon,\\ \\text{дел}$ & $\\epsilon,\\ мкВ$ & $B,\\ мТл$\\\\ \\hline\n",
      "$0.0$ & $32.0$ & $0.0$ & $21.0$ \\\\\n",
      "$0.15$ & $36.0$ & $0.16$ & $182.0$ \\\\\n",
      "$0.3$ & $40.5$ & $0.34$ & $370.0$ \\\\\n",
      "$0.45$ & $45.0$ & $0.52$ & $565.0$ \\\\\n",
      "$0.6$ & $48.5$ & $0.66$ & $739.0$ \\\\\n",
      "$0.75$ & $51.5$ & $0.78$ & $878.0$ \\\\\n",
      "$0.9$ & $54.0$ & $0.88$ & $969.0$ \\\\\n",
      "$1.05$ & $56.0$ & $0.96$ & $1038.0$ \\\\\n",
      "$1.2$ & $57.0$ & $1.0$ & $1081.0$ \\\\\n",
      "\\end{tabular}\n"
     ]
    }
   ],
   "source": [
    "import smartlab as sl\n",
    "sl.table(zink)"
   ]
  },
  {
   "cell_type": "code",
   "execution_count": null,
   "metadata": {
    "collapsed": true
   },
   "outputs": [],
   "source": []
  }
 ],
 "metadata": {
  "kernelspec": {
   "display_name": "Python 3",
   "language": "python",
   "name": "python3"
  },
  "language_info": {
   "codemirror_mode": {
    "name": "ipython",
    "version": 3
   },
   "file_extension": ".py",
   "mimetype": "text/x-python",
   "name": "python",
   "nbconvert_exporter": "python",
   "pygments_lexer": "ipython3",
   "version": "3.6.1"
  }
 },
 "nbformat": 4,
 "nbformat_minor": 2
}
